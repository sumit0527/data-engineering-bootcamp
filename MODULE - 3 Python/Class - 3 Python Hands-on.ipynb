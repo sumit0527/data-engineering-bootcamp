{
 "cells": [
  {
   "cell_type": "markdown",
   "metadata": {
    "application/vnd.databricks.v1+cell": {
     "cellMetadata": {},
     "inputWidgets": {},
     "nuid": "aa6cce46-dd88-40e9-9935-0c5bf72cd719",
     "showTitle": false,
     "tableResultSettingsMap": {},
     "title": ""
    }
   },
   "source": [
    "# Class 5: Error Handling & Logging"
   ]
  },
  {
   "cell_type": "code",
   "execution_count": 0,
   "metadata": {
    "application/vnd.databricks.v1+cell": {
     "cellMetadata": {
      "byteLimit": 2048000,
      "rowLimit": 10000
     },
     "inputWidgets": {},
     "nuid": "5c926eab-5767-4ce4-8396-ac197426c04a",
     "showTitle": false,
     "tableResultSettingsMap": {},
     "title": ""
    }
   },
   "outputs": [],
   "source": [
    "# try-except \n",
    "\n",
    "try:\n",
    "    marks = int(input(\"Enter a marks: \"))\n",
    "    print(f\"Normalized Score: {100 / marks}\")\n",
    "\n",
    "except ZeroDivisionError:\n",
    "    print(\"❌ cannot divide by zero\")\n",
    "\n",
    "except ValueError:\n",
    "    print(\"❌ please enter a valid number\")"
   ]
  },
  {
   "cell_type": "code",
   "execution_count": 0,
   "metadata": {
    "application/vnd.databricks.v1+cell": {
     "cellMetadata": {
      "byteLimit": 2048000,
      "rowLimit": 10000
     },
     "inputWidgets": {},
     "nuid": "8f10d521-5295-4ecb-9f4f-d5ec1f9d9214",
     "showTitle": false,
     "tableResultSettingsMap": {},
     "title": ""
    }
   },
   "outputs": [],
   "source": [
    "# Catch Multiple Errors: Use Else/Finally \n",
    "try:\n",
    "    a = int(input(\"Ente number A: \"))\n",
    "    b = int(input(\"Ente number B: \"))\n",
    "    result = a / b\n",
    "\n",
    "except ZeroDivisionError:\n",
    "    print(\"⚠ cannot divide by zero\")\n",
    "\n",
    "except ValueError:\n",
    "    print(\"⚠ enter only numbers\")\n",
    "\n",
    "else:\n",
    "    print(\"Result: \", result)\n",
    "\n",
    "finally:\n",
    "    print(\"✅ Calculator work done\")"
   ]
  },
  {
   "cell_type": "code",
   "execution_count": 0,
   "metadata": {
    "application/vnd.databricks.v1+cell": {
     "cellMetadata": {
      "byteLimit": 2048000,
      "rowLimit": 10000
     },
     "inputWidgets": {},
     "nuid": "f092db00-3ec1-4662-9e9c-6ce708ec3d48",
     "showTitle": false,
     "tableResultSettingsMap": {},
     "title": ""
    }
   },
   "outputs": [],
   "source": [
    "# How would you handle if someone enter a string for age in form?\n",
    "age = input(\"Enter your age: \")\n",
    "if age.isdigit():\n",
    "    print(f\"Valid Age: {int(age)}\")\n",
    "else:\n",
    "    print(\"⚠ Invalid input - must be a number\")"
   ]
  },
  {
   "cell_type": "markdown",
   "metadata": {
    "application/vnd.databricks.v1+cell": {
     "cellMetadata": {},
     "inputWidgets": {},
     "nuid": "0ac3fef1-74ba-42cc-84dd-96b627dd297e",
     "showTitle": false,
     "tableResultSettingsMap": {},
     "title": ""
    }
   },
   "source": [
    "# **Intro to Logging (Real World Tracking)**"
   ]
  },
  {
   "cell_type": "code",
   "execution_count": 0,
   "metadata": {
    "application/vnd.databricks.v1+cell": {
     "cellMetadata": {
      "byteLimit": 2048000,
      "rowLimit": 10000
     },
     "inputWidgets": {},
     "nuid": "b73c617f-2e2f-49d6-8b88-37a9ea5b6160",
     "showTitle": false,
     "tableResultSettingsMap": {},
     "title": ""
    }
   },
   "outputs": [],
   "source": [
    "import logging\n",
    "\n",
    "logging.basicConfig(level=logging.DEBUG)\n",
    "\n",
    "logging.debug(\"🛠 Debug — Internal variable set\")\n",
    "logging.info(\"ℹ Info — Starting process\")\n",
    "logging.warning(\"⚠️ Warning — Using default config\")\n",
    "logging.error(\"❌ Error — Invalid input received\")\n",
    "logging.critical(\"🔥 Critical — System failure\")"
   ]
  },
  {
   "cell_type": "code",
   "execution_count": 0,
   "metadata": {
    "application/vnd.databricks.v1+cell": {
     "cellMetadata": {
      "byteLimit": 2048000,
      "implicitDf": true,
      "rowLimit": 10000
     },
     "inputWidgets": {},
     "nuid": "f439de9e-f329-4558-9fec-6e678ab0342e",
     "showTitle": false,
     "tableResultSettingsMap": {},
     "title": ""
    }
   },
   "outputs": [],
   "source": [
    "%sql\n",
    "CREATE TABLE LOGGING_INFO \n",
    "(\n",
    "      name   STRING\n",
    "    , status STRING\n",
    "    , date   STRING\n",
    ")"
   ]
  },
  {
   "cell_type": "code",
   "execution_count": 0,
   "metadata": {
    "application/vnd.databricks.v1+cell": {
     "cellMetadata": {
      "byteLimit": 2048000,
      "implicitDf": true,
      "rowLimit": 10000
     },
     "inputWidgets": {},
     "nuid": "854a36df-0328-4dc3-b895-b34f846fd5df",
     "showTitle": false,
     "tableResultSettingsMap": {},
     "title": ""
    }
   },
   "outputs": [],
   "source": [
    "%sql \n",
    "SELECT * FROM LOGGING_INFO;"
   ]
  },
  {
   "cell_type": "code",
   "execution_count": 0,
   "metadata": {
    "application/vnd.databricks.v1+cell": {
     "cellMetadata": {},
     "inputWidgets": {},
     "nuid": "37842008-5bee-4ac0-99c3-730f0aca8dc0",
     "showTitle": false,
     "tableResultSettingsMap": {},
     "title": ""
    }
   },
   "outputs": [],
   "source": [
    "def update_status():\n",
    "    # some update status \n",
    "\n",
    "def insert_status():\n",
    "    # insert about new job\n",
    "    "
   ]
  }
 ],
 "metadata": {
  "application/vnd.databricks.v1+notebook": {
   "computePreferences": null,
   "dashboards": [],
   "environmentMetadata": {
    "base_environment": "",
    "environment_version": "2"
   },
   "inputWidgetPreferences": null,
   "language": "python",
   "notebookMetadata": {
    "mostRecentlyExecutedCommandWithImplicitDF": {
     "commandId": 5164838764540129,
     "dataframes": [
      "_sqldf"
     ]
    },
    "pythonIndentUnit": 4
   },
   "notebookName": "Class - 3 Python Hands-on",
   "widgets": {}
  },
  "language_info": {
   "name": "python"
  }
 },
 "nbformat": 4,
 "nbformat_minor": 0
}
