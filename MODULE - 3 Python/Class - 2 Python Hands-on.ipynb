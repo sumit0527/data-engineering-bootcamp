{
 "cells": [
  {
   "cell_type": "markdown",
   "metadata": {
    "application/vnd.databricks.v1+cell": {
     "cellMetadata": {},
     "inputWidgets": {},
     "nuid": "9bb4ba56-7c14-4fa7-830f-5d53358157a7",
     "showTitle": false,
     "tableResultSettingsMap": {},
     "title": ""
    }
   },
   "source": [
    "# Class 4: File Handling"
   ]
  },
  {
   "cell_type": "code",
   "execution_count": 0,
   "metadata": {
    "application/vnd.databricks.v1+cell": {
     "cellMetadata": {
      "byteLimit": 2048000,
      "rowLimit": 10000
     },
     "inputWidgets": {},
     "nuid": "ad541a59-739d-41f5-96fe-d261f242c577",
     "showTitle": false,
     "tableResultSettingsMap": {},
     "title": ""
    }
   },
   "outputs": [],
   "source": [
    "# Basic Read the CSV File\n",
    "import csv\n",
    "\n",
    "with open(r\"global_food_wastage_dataset.csv\", mode=\"r\") as file:\n",
    "    reader = csv.reader(file)\n",
    "    \n",
    "    # next is used to skip the header of CSV\n",
    "    next(reader)\n",
    "\n",
    "    for row in reader:\n",
    "        print(row) "
   ]
  },
  {
   "cell_type": "code",
   "execution_count": 0,
   "metadata": {
    "application/vnd.databricks.v1+cell": {
     "cellMetadata": {
      "byteLimit": 2048000,
      "rowLimit": 10000
     },
     "inputWidgets": {},
     "nuid": "72078e31-b3a7-4018-840c-27c5801d6e06",
     "showTitle": false,
     "tableResultSettingsMap": {},
     "title": ""
    }
   },
   "outputs": [],
   "source": [
    "# only use some part of the file\n",
    "\n",
    "# Basic Read the CSV File\n",
    "import csv\n",
    "\n",
    "with open(r\"global_food_wastage_dataset.csv\", mode=\"r\") as file:\n",
    "    reader = csv.DictReader(file)\n",
    "\n",
    "    for row in reader:\n",
    "        print(row['Country']) "
   ]
  },
  {
   "cell_type": "markdown",
   "metadata": {
    "application/vnd.databricks.v1+cell": {
     "cellMetadata": {},
     "inputWidgets": {},
     "nuid": "4dff1019-7606-49dd-b8dd-1f7669505ba2",
     "showTitle": false,
     "tableResultSettingsMap": {},
     "title": ""
    }
   },
   "source": [
    "## Writing to the CSV"
   ]
  },
  {
   "cell_type": "code",
   "execution_count": 0,
   "metadata": {
    "application/vnd.databricks.v1+cell": {
     "cellMetadata": {
      "byteLimit": 2048000,
      "rowLimit": 10000
     },
     "inputWidgets": {},
     "nuid": "386cc1ad-48c4-4b14-8fa6-f384daa83da2",
     "showTitle": false,
     "tableResultSettingsMap": {},
     "title": ""
    }
   },
   "outputs": [],
   "source": [
    "# Create output file\n",
    "with open(\"output.txt\", mode=\"w\", newline = \"\") as file:\n",
    "    writer = csv.writer(file) \n",
    "    writer.writerow(['Country', 'Wastage'])"
   ]
  },
  {
   "cell_type": "code",
   "execution_count": 0,
   "metadata": {
    "application/vnd.databricks.v1+cell": {
     "cellMetadata": {
      "byteLimit": 2048000,
      "rowLimit": 10000
     },
     "inputWidgets": {},
     "nuid": "d4e1380e-7e66-450c-bbec-382af8393b33",
     "showTitle": false,
     "tableResultSettingsMap": {},
     "title": ""
    }
   },
   "outputs": [],
   "source": [
    "# Read Line by Line Logging File\n",
    "with open(\"log.txt\", mode=\"r\") as file:\n",
    "    for idx, line in enumerate(file, start=1):\n",
    "        if \"ERROR\" in line:\n",
    "            print(f\"🚨 Alert at Line: {idx} {line}\")"
   ]
  },
  {
   "cell_type": "code",
   "execution_count": 0,
   "metadata": {
    "application/vnd.databricks.v1+cell": {
     "cellMetadata": {
      "byteLimit": 2048000,
      "rowLimit": 10000
     },
     "inputWidgets": {},
     "nuid": "4351bdd9-67a7-4ab0-9a87-940fb3c29c2a",
     "showTitle": false,
     "tableResultSettingsMap": {},
     "title": ""
    }
   },
   "outputs": [],
   "source": [
    "# Fetching Data from API\n",
    "import requests\n",
    "\n",
    "url = \"https://cricbuzz-cricket.p.rapidapi.com/matches/v1/recent\"\n",
    "\n",
    "headers = {\n",
    "\t\"x-rapidapi-key\": \"3d2dff9d87msh0a660e3f4fe3995p1dd857jsnace594289ae1\",\n",
    "\t\"x-rapidapi-host\": \"cricbuzz-cricket.p.rapidapi.com\"\n",
    "}\n",
    "\n",
    "response = requests.get(url, headers=headers)\n",
    "\n",
    "print(response.json())"
   ]
  },
  {
   "cell_type": "markdown",
   "metadata": {
    "application/vnd.databricks.v1+cell": {
     "cellMetadata": {},
     "inputWidgets": {},
     "nuid": "c919c2d7-b935-4668-ac41-66473d879104",
     "showTitle": false,
     "tableResultSettingsMap": {},
     "title": ""
    }
   },
   "source": [
    "## 🧪 MINI PROJECT: File + API + Logic \n",
    "_**✅ Task:**_\n",
    "-  Fetch users from API\n",
    "- Filter users from a specific city \n",
    "- Write to a CSV"
   ]
  },
  {
   "cell_type": "code",
   "execution_count": 0,
   "metadata": {
    "application/vnd.databricks.v1+cell": {
     "cellMetadata": {
      "byteLimit": 2048000,
      "rowLimit": 10000
     },
     "inputWidgets": {},
     "nuid": "fb52b040-5f0c-419d-b99d-a336baf256a5",
     "showTitle": false,
     "tableResultSettingsMap": {},
     "title": ""
    }
   },
   "outputs": [],
   "source": [
    "# Import necessary modules\n",
    "import requests  # Used to send HTTP requests\n",
    "import csv       # Used to write CSV files\n",
    "\n",
    "# Step 1: Make a GET request to fetch user data from a public API\n",
    "response = requests.get('https://jsonplaceholder.typicode.com/users')\n",
    "\n",
    "# Step 2: Check if the response was successful (status code 200)\n",
    "if response.status_code == 200:\n",
    "    users = response.json()  # Convert the JSON response to Python list of dictionaries\n",
    "\n",
    "    # Step 3: Open a CSV file in write mode to store filtered data\n",
    "    with open(\"city_users.csv\", mode='w', newline=\"\") as file:\n",
    "        writer = csv.writer(file)\n",
    "\n",
    "        # Step 4: Write header row to the CSV\n",
    "        writer.writerow([\"Name\", \"City\"])\n",
    "\n",
    "        # Step 5: Loop through each user and filter by city name\n",
    "        for user in users:\n",
    "            if user['address']['city'] == \"South Christy\":\n",
    "                # Step 6: Write user's name and city to the CSV if city matches\n",
    "                writer.writerow([user['name'], user['address']['city']])\n",
    "else:\n",
    "    # If the API call fails, show an error message\n",
    "    print(\"❌ Failed to fetch data\")\n"
   ]
  }
 ],
 "metadata": {
  "application/vnd.databricks.v1+notebook": {
   "computePreferences": null,
   "dashboards": [],
   "environmentMetadata": {
    "base_environment": "",
    "environment_version": "2"
   },
   "inputWidgetPreferences": null,
   "language": "python",
   "notebookMetadata": {
    "pythonIndentUnit": 4
   },
   "notebookName": "Class - 2 Python Hands-on",
   "widgets": {}
  },
  "language_info": {
   "name": "python"
  }
 },
 "nbformat": 4,
 "nbformat_minor": 0
}
