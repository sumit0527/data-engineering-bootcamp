{
 "cells": [
  {
   "cell_type": "markdown",
   "metadata": {
    "application/vnd.databricks.v1+cell": {
     "cellMetadata": {},
     "inputWidgets": {},
     "nuid": "976a2fb9-0888-4a0d-bd5b-6e57570ddb6f",
     "showTitle": false,
     "tableResultSettingsMap": {},
     "title": ""
    }
   },
   "source": [
    "# Class 8: OOP in Python"
   ]
  },
  {
   "cell_type": "markdown",
   "metadata": {
    "application/vnd.databricks.v1+cell": {
     "cellMetadata": {},
     "inputWidgets": {},
     "nuid": "94a87f64-4145-43cd-9c8f-820762fc6e18",
     "showTitle": false,
     "tableResultSettingsMap": {},
     "title": ""
    }
   },
   "source": [
    "- Data Engineers build reusable tools: readers, transformers, loggers.\n",
    "- OOP helps you modularize, scale, and reorganize pipeline steps cleanly.\n",
    "- Instead of repeating code for each file format/API — define a class once, use everywhere."
   ]
  },
  {
   "cell_type": "markdown",
   "metadata": {
    "application/vnd.databricks.v1+cell": {
     "cellMetadata": {},
     "inputWidgets": {},
     "nuid": "36de4b6c-48c0-4ffc-8db8-cc2e17904cb5",
     "showTitle": false,
     "tableResultSettingsMap": {},
     "title": ""
    }
   },
   "source": [
    "## Classes & Objects (Core Foundation)"
   ]
  },
  {
   "cell_type": "code",
   "execution_count": 0,
   "metadata": {
    "application/vnd.databricks.v1+cell": {
     "cellMetadata": {
      "byteLimit": 2048000,
      "rowLimit": 10000
     },
     "inputWidgets": {},
     "nuid": "bb363773-c278-4a92-930f-8a34a18a2c1b",
     "showTitle": false,
     "tableResultSettingsMap": {},
     "title": ""
    }
   },
   "outputs": [],
   "source": [
    "class Customer: \n",
    "    def __init__(self, name):\n",
    "        self.name = name \n",
    "\n",
    "c1 = Customer(\"Sumit\")\n",
    "print(c1.name)"
   ]
  },
  {
   "cell_type": "code",
   "execution_count": 0,
   "metadata": {
    "application/vnd.databricks.v1+cell": {
     "cellMetadata": {
      "byteLimit": 2048000,
      "rowLimit": 10000
     },
     "inputWidgets": {},
     "nuid": "5f7c4ddf-52f7-4be9-a2c2-e9315db22e6a",
     "showTitle": false,
     "tableResultSettingsMap": {},
     "title": ""
    }
   },
   "outputs": [],
   "source": [
    "# Build a PipelineStep Class \n",
    "class PipelineStep:\n",
    "\n",
    "    def __init__(self, step_name):\n",
    "        self.step_name = step_name \n",
    "\n",
    "    def execute(self):\n",
    "        print(f\"🚀 Executing Step: {self.step_name}\")\n",
    "\n",
    "\n",
    "ingest = PipelineStep(\"Ingestion\")\n",
    "transform = PipelineStep(\"Transformation\")\n",
    "load = PipelineStep(\"Loading\")\n",
    "\n",
    "ingest.execute()\n",
    "transform.execute()\n",
    "load.execute()"
   ]
  },
  {
   "cell_type": "markdown",
   "metadata": {
    "application/vnd.databricks.v1+cell": {
     "cellMetadata": {},
     "inputWidgets": {},
     "nuid": "2ac68474-5785-46fc-9622-1f0ce096bdc2",
     "showTitle": false,
     "tableResultSettingsMap": {},
     "title": ""
    }
   },
   "source": [
    "## Encapsulation - Protect Internal Logic"
   ]
  },
  {
   "cell_type": "code",
   "execution_count": 0,
   "metadata": {
    "application/vnd.databricks.v1+cell": {
     "cellMetadata": {
      "byteLimit": 2048000,
      "rowLimit": 10000
     },
     "inputWidgets": {},
     "nuid": "6e84b550-7dee-4cff-b2d3-88070bfbb4c3",
     "showTitle": false,
     "tableResultSettingsMap": {},
     "title": ""
    }
   },
   "outputs": [],
   "source": [
    "class DatabaseConnection:\n",
    "    def __init__(self):\n",
    "        self._credentials = \"user:pass@123\" # protected variable credentials \n",
    "\n",
    "    def connect(self):\n",
    "        print(\"🛢️ Connecting using credentials...\")\n",
    "        return \"DB Connection Established\"\n",
    "    \n",
    "db = DatabaseConnection()\n",
    "print(db.connect())"
   ]
  },
  {
   "cell_type": "markdown",
   "metadata": {
    "application/vnd.databricks.v1+cell": {
     "cellMetadata": {},
     "inputWidgets": {},
     "nuid": "f27dbbc9-6e85-4cff-b3e8-34c9d6f0603a",
     "showTitle": false,
     "tableResultSettingsMap": {},
     "title": ""
    }
   },
   "source": [
    "## Inheritance - Reuse Code with Variants"
   ]
  },
  {
   "cell_type": "code",
   "execution_count": 0,
   "metadata": {
    "application/vnd.databricks.v1+cell": {
     "cellMetadata": {
      "byteLimit": 2048000,
      "rowLimit": 10000
     },
     "inputWidgets": {},
     "nuid": "8f5294ef-9834-4015-86cd-e9fce6612721",
     "showTitle": false,
     "tableResultSettingsMap": {},
     "title": ""
    }
   },
   "outputs": [],
   "source": [
    "class Reader:\n",
    "    def read(self):\n",
    "        return \"Reading from Base Reader...\"\n",
    "\n",
    "class CSVReader(Reader):\n",
    "    def read(self):\n",
    "        return \"𝄜 Reading from CSV\"   \n",
    "    \n",
    "class APIReader(Reader):\n",
    "    def read(self):\n",
    "        return \"🌎 Fetching from API\"\n",
    "    \n",
    "print(CSVReader().read())\n",
    "print(APIReader().read())"
   ]
  },
  {
   "cell_type": "markdown",
   "metadata": {
    "application/vnd.databricks.v1+cell": {
     "cellMetadata": {},
     "inputWidgets": {},
     "nuid": "268b4a35-61d8-434a-aee6-73c6c6db703d",
     "showTitle": false,
     "tableResultSettingsMap": {},
     "title": ""
    }
   },
   "source": [
    "## Polymorphism - Same Interface, Different Behaviour"
   ]
  },
  {
   "cell_type": "code",
   "execution_count": 0,
   "metadata": {
    "application/vnd.databricks.v1+cell": {
     "cellMetadata": {
      "byteLimit": 2048000,
      "rowLimit": 10000
     },
     "inputWidgets": {},
     "nuid": "857998e4-5e69-4c90-9532-41b6f65d314b",
     "showTitle": false,
     "tableResultSettingsMap": {},
     "title": ""
    }
   },
   "outputs": [],
   "source": [
    "def run_reader(reader):\n",
    "    print(reader.read())\n",
    "\n",
    "run_reader(CSVReader())\n",
    "run_reader(APIReader())"
   ]
  },
  {
   "cell_type": "markdown",
   "metadata": {
    "application/vnd.databricks.v1+cell": {
     "cellMetadata": {},
     "inputWidgets": {},
     "nuid": "9e298201-5154-450d-abb5-bf5ffb48dd5c",
     "showTitle": false,
     "tableResultSettingsMap": {},
     "title": ""
    }
   },
   "source": [
    "## Abstraction - Enforce Strtucture Across Team"
   ]
  },
  {
   "cell_type": "code",
   "execution_count": 0,
   "metadata": {
    "application/vnd.databricks.v1+cell": {
     "cellMetadata": {
      "byteLimit": 2048000,
      "rowLimit": 10000
     },
     "inputWidgets": {},
     "nuid": "92279aaf-acb6-4423-93d9-f331e8b2c90e",
     "showTitle": false,
     "tableResultSettingsMap": {},
     "title": ""
    }
   },
   "outputs": [],
   "source": [
    "from abc import ABC, abstractmethod \n",
    "\n",
    "class Ingester(ABC):\n",
    "    @abstractmethod \n",
    "    def read(self):\n",
    "        pass \n",
    "\n",
    "class CSVIngester(Ingester):\n",
    "    def read(self):\n",
    "        return 'Reading CSV...'\n",
    "\n",
    "class APIIngester(Ingester):\n",
    "    def read(self):\n",
    "        return \"Calling API...\" \n",
    "\n",
    "def run(ingester):\n",
    "    print(ingester.read())\n",
    "\n",
    "run(CSVIngester())\n",
    "run(APIIngester())"
   ]
  },
  {
   "cell_type": "markdown",
   "metadata": {
    "application/vnd.databricks.v1+cell": {
     "cellMetadata": {},
     "inputWidgets": {},
     "nuid": "f470beee-ff53-4aeb-ae78-72d4856c4731",
     "showTitle": false,
     "tableResultSettingsMap": {},
     "title": ""
    }
   },
   "source": [
    "# Real Data Pipeline - OOP Version"
   ]
  },
  {
   "cell_type": "code",
   "execution_count": 0,
   "metadata": {
    "application/vnd.databricks.v1+cell": {
     "cellMetadata": {
      "byteLimit": 2048000,
      "rowLimit": 10000
     },
     "inputWidgets": {},
     "nuid": "7fc90f08-0c7e-4743-940e-5ddb65e4c4d2",
     "showTitle": false,
     "tableResultSettingsMap": {},
     "title": ""
    }
   },
   "outputs": [],
   "source": [
    "class FileIngester:\n",
    "    def __init__(self, path):\n",
    "        self.path = path\n",
    "\n",
    "    def read(self):\n",
    "        print(f\"Reading data from {self.path}\")\n",
    "        return f\"Raw data from {self.path}\"\n",
    "    \n",
    "class Cleaner:\n",
    "    def clean(self, data):\n",
    "        print(\"Cleaning data...\")\n",
    "        return f\"Cleaned version of: {data}\"\n",
    "    \n",
    "class Writer:\n",
    "    def write(self, data):\n",
    "        print(f\"Writing data: {data}\")\n",
    "        return \"Write Success\"\n",
    "    \n",
    "# Execute Pipeline \n",
    "reader = FileIngester(\"data.csv\")\n",
    "raw_data = reader.read()\n",
    "\n",
    "cleaned = Cleaner().clean(raw_data)\n",
    "Writer().write(cleaned)"
   ]
  }
 ],
 "metadata": {
  "application/vnd.databricks.v1+notebook": {
   "computePreferences": null,
   "dashboards": [],
   "environmentMetadata": {
    "base_environment": "",
    "environment_version": "2"
   },
   "inputWidgetPreferences": null,
   "language": "python",
   "notebookMetadata": {
    "pythonIndentUnit": 4
   },
   "notebookName": "Class - 4 Hands-on",
   "widgets": {}
  },
  "language_info": {
   "name": "python"
  }
 },
 "nbformat": 4,
 "nbformat_minor": 0
}
