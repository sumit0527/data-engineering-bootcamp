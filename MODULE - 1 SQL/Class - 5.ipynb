{
 "cells": [
  {
   "cell_type": "markdown",
   "metadata": {
    "application/vnd.databricks.v1+cell": {
     "cellMetadata": {
      "byteLimit": 2048000,
      "rowLimit": 10000
     },
     "inputWidgets": {},
     "nuid": "cf81b678-9d84-494d-90a9-8d24f0c9bea2",
     "showTitle": false,
     "tableResultSettingsMap": {},
     "title": ""
    }
   },
   "source": [
    "Class 5 - Windows Function of SQL"
   ]
  },
  {
   "cell_type": "code",
   "execution_count": 0,
   "metadata": {
    "application/vnd.databricks.v1+cell": {
     "cellMetadata": {
      "byteLimit": 2048000,
      "implicitDf": true,
      "rowLimit": 10000
     },
     "inputWidgets": {},
     "nuid": "5844c57e-829f-4636-b9e0-bd0f569aff06",
     "showTitle": false,
     "tableResultSettingsMap": {},
     "title": ""
    }
   },
   "outputs": [],
   "source": [
    "%sql \n",
    "-- Gives each row a unique number based on order date \n",
    "SELECT \n",
    "order_id,\n",
    "order_date, \n",
    "ROW_NUMBER() OVER \n",
    "(ORDER BY order_date) AS row_num\n",
    "FROM orders;"
   ]
  },
  {
   "cell_type": "code",
   "execution_count": 0,
   "metadata": {
    "application/vnd.databricks.v1+cell": {
     "cellMetadata": {
      "byteLimit": 2048000,
      "implicitDf": true,
      "rowLimit": 10000
     },
     "inputWidgets": {},
     "nuid": "287e00c1-8f9c-443c-b79e-94ee30e1ac0f",
     "showTitle": false,
     "tableResultSettingsMap": {},
     "title": ""
    }
   },
   "outputs": [],
   "source": [
    "%sql \n",
    "-- Real Life Use Case: Show first product bought by each customer\n",
    "\n",
    "SELECT c.first_name,\n",
    "od.product_name, o.order_id, \n",
    "ROW_NUMBER() OVER (PARTITION BY c.customer_id ORDER BY o.order_date) AS PURCHASE_SEQUENCE\n",
    "FROM customers c \n",
    "JOIN orders o ON c.customer_id = o.customer_id\n",
    "JOIN order_details od ON o.order_id = od.order_id\n",
    "\n",
    "-- The First Order is that where the purchase_sequence = 1\n"
   ]
  },
  {
   "cell_type": "code",
   "execution_count": 0,
   "metadata": {
    "application/vnd.databricks.v1+cell": {
     "cellMetadata": {
      "byteLimit": 2048000,
      "implicitDf": true,
      "rowLimit": 10000
     },
     "inputWidgets": {},
     "nuid": "29e6ea8a-fddf-4eff-bc89-6d43fc1a0981",
     "showTitle": false,
     "tableResultSettingsMap": {},
     "title": ""
    }
   },
   "outputs": [],
   "source": [
    "%sql \n",
    "-- RANK() \n",
    "-- Rank's rows by quantity, ties get the same rank, but gaps are left in the sequence.\n",
    "SELECT \n",
    "  product_name, quantity, \n",
    "  RANK() OVER \n",
    "  (ORDER BY quantity DESC) as RANKING \n",
    "FROM order_details;"
   ]
  },
  {
   "cell_type": "code",
   "execution_count": 0,
   "metadata": {
    "application/vnd.databricks.v1+cell": {
     "cellMetadata": {
      "byteLimit": 2048000,
      "implicitDf": true,
      "rowLimit": 10000
     },
     "inputWidgets": {},
     "nuid": "698fc6c1-14dc-4e69-8cab-70decc71ea23",
     "showTitle": false,
     "tableResultSettingsMap": {},
     "title": ""
    }
   },
   "outputs": [],
   "source": [
    "%sql \n",
    "-- Real Life UseCase: assign bonus based on best selling products in each order  \n",
    "SELECT order_id, product_name, quantity,\n",
    "RANK() OVER \n",
    "(PARTITION BY order_id ORDER BY quantity DESC) RANKING\n",
    "FROM order_details;"
   ]
  },
  {
   "cell_type": "code",
   "execution_count": 0,
   "metadata": {
    "application/vnd.databricks.v1+cell": {
     "cellMetadata": {
      "byteLimit": 2048000,
      "implicitDf": true,
      "rowLimit": 10000
     },
     "inputWidgets": {},
     "nuid": "6c4b9ad6-ab85-4a6b-9335-da8589e389c9",
     "showTitle": false,
     "tableResultSettingsMap": {},
     "title": ""
    }
   },
   "outputs": [],
   "source": [
    "%sql\n",
    "-- DENSE_RANK(): RANK without any gaps\n",
    "SELECT \n",
    "  product_name,\n",
    "  quantity,\n",
    "  DENSE_RANK() OVER (ORDER BY quantity DESC) AS dense_rank,\n",
    "  RANK() OVER (ORDER BY quantity DESC) AS rank\n",
    "FROM order_details"
   ]
  },
  {
   "cell_type": "code",
   "execution_count": 0,
   "metadata": {
    "application/vnd.databricks.v1+cell": {
     "cellMetadata": {
      "byteLimit": 2048000,
      "implicitDf": true,
      "rowLimit": 10000
     },
     "inputWidgets": {},
     "nuid": "7ff8f2cf-0306-4c53-a547-8c07fd536c13",
     "showTitle": false,
     "tableResultSettingsMap": {},
     "title": ""
    }
   },
   "outputs": [],
   "source": [
    "%sql \n",
    "-- Real Life Use Case: Label product popularity tiers in clean rank bucket\n",
    "SELECT \n",
    "  product_name,\n",
    "  SUM(quantity) AS TOTAL_QUANTITY,\n",
    "  DENSE_RANK() OVER (ORDER BY SUM(quantity) DESC) AS POPULARITY_RANK \n",
    "FROM order_details\n",
    "GROUP BY product_name;\n"
   ]
  },
  {
   "cell_type": "code",
   "execution_count": 0,
   "metadata": {
    "application/vnd.databricks.v1+cell": {
     "cellMetadata": {
      "byteLimit": 2048000,
      "implicitDf": true,
      "rowLimit": 10000
     },
     "inputWidgets": {},
     "nuid": "1f30cf8d-62f2-4aef-aed7-75918cf444ae",
     "showTitle": false,
     "tableResultSettingsMap": {},
     "title": ""
    }
   },
   "outputs": [],
   "source": [
    "%sql \n",
    "-- LAG(): COMPARE WITH PREVIOUS ROWS \n",
    "SELECT \n",
    "  order_id,\n",
    "  order_date,\n",
    "  LAG(order_date) OVER (ORDER BY order_date) AS PREVIOUS_DATE \n",
    "FROM orders; "
   ]
  },
  {
   "cell_type": "code",
   "execution_count": 0,
   "metadata": {
    "application/vnd.databricks.v1+cell": {
     "cellMetadata": {
      "byteLimit": 2048000,
      "implicitDf": true,
      "rowLimit": 10000
     },
     "inputWidgets": {},
     "nuid": "ce81526a-2fdc-4b3d-96ad-ef0377b05167",
     "showTitle": false,
     "tableResultSettingsMap": {},
     "title": ""
    }
   },
   "outputs": [],
   "source": [
    "%sql \n",
    "-- Real Life Use Case: Analyze the customer's order trends (did they buy more/less?)\n",
    "SELECT \n",
    "  c.first_name, \n",
    "  o.order_id,\n",
    "  od.quantity,\n",
    "  LAG(od.quantity) OVER (PARTITION BY c.customer_id ORDER BY o.order_date) AS PREVIOUS \n",
    "FROM customers c \n",
    "JOIN orders o ON c.customer_id = o.customer_id\n",
    "JOIN order_details od ON o.order_id = od.order_id"
   ]
  },
  {
   "cell_type": "code",
   "execution_count": 0,
   "metadata": {
    "application/vnd.databricks.v1+cell": {
     "cellMetadata": {
      "byteLimit": 2048000,
      "implicitDf": true,
      "rowLimit": 10000
     },
     "inputWidgets": {},
     "nuid": "b9a61246-5735-4151-8436-f64bdc2c1ce7",
     "showTitle": false,
     "tableResultSettingsMap": {},
     "title": ""
    }
   },
   "outputs": [],
   "source": [
    "%sql \n",
    "-- LEAD(): COMPARE WITH NEXT ROWS \n",
    "SELECT \n",
    "  order_id,\n",
    "  order_date,\n",
    "  LEAD(order_date) OVER (ORDER BY order_date) AS NEXT_DATE \n",
    "FROM orders; "
   ]
  },
  {
   "cell_type": "code",
   "execution_count": 0,
   "metadata": {
    "application/vnd.databricks.v1+cell": {
     "cellMetadata": {
      "byteLimit": 2048000,
      "implicitDf": true,
      "rowLimit": 10000
     },
     "inputWidgets": {},
     "nuid": "0800e16e-713c-4713-998e-9536745d9de7",
     "showTitle": false,
     "tableResultSettingsMap": {},
     "title": ""
    }
   },
   "outputs": [],
   "source": [
    "%sql \n",
    "-- Real Life Use Case: Predict what customers might buy next \n",
    "SELECT \n",
    "  c.first_name,\n",
    "  od.product_name, \n",
    "  od.quantity,\n",
    "  LEAD(od.product_name) OVER (PARTITION BY c.customer_id ORDER BY o.order_date) AS NEX\n",
    "FROM customers c \n",
    "JOIN orders o ON c.customer_id = o.customer_id\n",
    "JOIN order_details od ON o.order_id = od.order_id"
   ]
  },
  {
   "cell_type": "code",
   "execution_count": 0,
   "metadata": {
    "application/vnd.databricks.v1+cell": {
     "cellMetadata": {
      "byteLimit": 2048000,
      "implicitDf": true,
      "rowLimit": 10000
     },
     "inputWidgets": {},
     "nuid": "5f815706-3143-4733-b2fe-4845079f36a5",
     "showTitle": false,
     "tableResultSettingsMap": {},
     "title": ""
    }
   },
   "outputs": [],
   "source": [
    "%sql \n",
    "-- SUM(): RUNNING TOTAL OR CUMULATIVE SUM\n",
    "SELECT \n",
    "  o.order_id,\n",
    "  od.product_name,\n",
    "  od.quantity,\n",
    "  SUM(od.quantity) OVER (ORDER BY o.order_id ASC) AS CUMULATIVE_SUM\n",
    "FROM orders o \n",
    "JOIN order_details od ON o.order_id = od.order_id"
   ]
  },
  {
   "cell_type": "code",
   "execution_count": 0,
   "metadata": {
    "application/vnd.databricks.v1+cell": {
     "cellMetadata": {
      "byteLimit": 2048000,
      "implicitDf": true,
      "rowLimit": 10000
     },
     "inputWidgets": {},
     "nuid": "fc43303d-58e0-460c-92a4-8486d86472cf",
     "showTitle": false,
     "tableResultSettingsMap": {},
     "title": ""
    }
   },
   "outputs": [],
   "source": [
    "%sql \n",
    "SELECT emp_id,\n",
    "  first_name, department, salary,\n",
    "  SUM(salary) OVER (ORDER BY emp_id) AS RUNNING_TOTAL \n",
    "FROM employees "
   ]
  },
  {
   "cell_type": "code",
   "execution_count": 0,
   "metadata": {
    "application/vnd.databricks.v1+cell": {
     "cellMetadata": {},
     "inputWidgets": {},
     "nuid": "0accfebf-2ee2-48fe-a8d4-da7f4062fef1",
     "showTitle": false,
     "tableResultSettingsMap": {},
     "title": ""
    }
   },
   "outputs": [],
   "source": []
  }
 ],
 "metadata": {
  "application/vnd.databricks.v1+notebook": {
   "computePreferences": null,
   "dashboards": [],
   "environmentMetadata": {
    "base_environment": "",
    "environment_version": "2"
   },
   "inputWidgetPreferences": null,
   "language": "python",
   "notebookMetadata": {
    "mostRecentlyExecutedCommandWithImplicitDF": {
     "commandId": 8192852296342010,
     "dataframes": [
      "_sqldf"
     ]
    },
    "pythonIndentUnit": 4
   },
   "notebookName": "Class - 5",
   "widgets": {}
  },
  "language_info": {
   "name": "python"
  }
 },
 "nbformat": 4,
 "nbformat_minor": 0
}
