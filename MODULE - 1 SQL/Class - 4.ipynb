{
 "cells": [
  {
   "cell_type": "code",
   "execution_count": 0,
   "metadata": {
    "application/vnd.databricks.v1+cell": {
     "cellMetadata": {
      "byteLimit": 2048000,
      "implicitDf": true,
      "rowLimit": 10000
     },
     "inputWidgets": {},
     "nuid": "c8ebdd42-b64d-41a2-bf8a-490215d8f420",
     "showTitle": false,
     "tableResultSettingsMap": {},
     "title": ""
    }
   },
   "outputs": [],
   "source": [
    "%sql\n",
    "-- customers table backup \n",
    "CREATE TABLE customer_backup \n",
    "USING DELTA \n",
    "LOCATION 'dbfs:/FileStore/backup/customer';"
   ]
  },
  {
   "cell_type": "code",
   "execution_count": 0,
   "metadata": {
    "application/vnd.databricks.v1+cell": {
     "cellMetadata": {
      "byteLimit": 2048000,
      "implicitDf": true,
      "rowLimit": 10000
     },
     "inputWidgets": {},
     "nuid": "aee3481f-f940-4710-ad0b-ef12aeb37396",
     "showTitle": false,
     "tableResultSettingsMap": {},
     "title": ""
    }
   },
   "outputs": [],
   "source": [
    "%sql\n",
    "-- orders table backup \n",
    "CREATE TABLE orders_backup \n",
    "USING DELTA \n",
    "LOCATION 'dbfs:/FileStore/backup/orders';"
   ]
  },
  {
   "cell_type": "code",
   "execution_count": 0,
   "metadata": {
    "application/vnd.databricks.v1+cell": {
     "cellMetadata": {
      "byteLimit": 2048000,
      "implicitDf": true,
      "rowLimit": 10000
     },
     "inputWidgets": {},
     "nuid": "0b2e6e52-2a8d-4b4a-a57d-c21e16527e82",
     "showTitle": false,
     "tableResultSettingsMap": {},
     "title": ""
    }
   },
   "outputs": [],
   "source": [
    "%sql\n",
    "-- order_details table backup \n",
    "CREATE TABLE order_details_backup \n",
    "USING DELTA\n",
    "LOCATION 'dbfs:/FileStore/backup/order_details';"
   ]
  },
  {
   "cell_type": "code",
   "execution_count": 0,
   "metadata": {
    "application/vnd.databricks.v1+cell": {
     "cellMetadata": {
      "byteLimit": 2048000,
      "implicitDf": true,
      "rowLimit": 10000
     },
     "inputWidgets": {},
     "nuid": "6ecd40ae-bcf7-47c5-8cc2-bcb27825c0e6",
     "showTitle": false,
     "tableResultSettingsMap": {},
     "title": ""
    }
   },
   "outputs": [],
   "source": [
    "%sql \n",
    "-- Find the customers who have placed the orders above the average order amount \n",
    "SELECT c.first_name, c.last_name, o.total_amount\n",
    "FROM customer_backup c\n",
    "JOIN orders_backup o \n",
    "ON c.customer_id = o.customer_id\n",
    "WHERE o.total_amount > (SELECT AVG(total_amount) \n",
    "                        FROM orders_backup);"
   ]
  },
  {
   "cell_type": "code",
   "execution_count": 0,
   "metadata": {
    "application/vnd.databricks.v1+cell": {
     "cellMetadata": {
      "byteLimit": 2048000,
      "implicitDf": true,
      "rowLimit": 10000
     },
     "inputWidgets": {},
     "nuid": "fd728bfc-ab8f-40e2-9826-ab01aa7ed853",
     "showTitle": false,
     "tableResultSettingsMap": {},
     "title": ""
    },
    "jupyter": {
     "outputs_hidden": true
    }
   },
   "outputs": [],
   "source": [
    "%sql \n",
    "-- List the products that have been sold more than 5 times in total \n",
    "SELECT od.product_name, SUM(od.quantity)\n",
    "FROM order_details_backup od \n",
    "GROUP BY od.product_name\n",
    "HAVING SUM(od.quantity) > (SELECT 2);"
   ]
  },
  {
   "cell_type": "code",
   "execution_count": 0,
   "metadata": {
    "application/vnd.databricks.v1+cell": {
     "cellMetadata": {
      "byteLimit": 2048000,
      "implicitDf": true,
      "rowLimit": 10000
     },
     "inputWidgets": {},
     "nuid": "76e85a06-393d-4951-b818-8b1dc1d6ef13",
     "showTitle": false,
     "tableResultSettingsMap": {},
     "title": ""
    },
    "jupyter": {
     "outputs_hidden": true
    }
   },
   "outputs": [],
   "source": [
    "%sql \n",
    "-- List the customers and their total quantity of products orderd\n",
    "WITH customer_orders AS (\n",
    "    SELECT c.customer_id, c.first_name, sum(od.quantity) as total_quantity\n",
    "    FROM customer_backup c \n",
    "    INNER JOIN orders_backup o ON c.customer_id = o.customer_id\n",
    "    INNER JOIN order_details_backup od ON od.order_id = o.order_id\n",
    "    GROUP BY c.customer_id, c.first_name\n",
    " )\n",
    "SELECT *\n",
    "FROM customer_orders\n",
    "WHERE total_quantity > 3"
   ]
  },
  {
   "cell_type": "code",
   "execution_count": 0,
   "metadata": {
    "application/vnd.databricks.v1+cell": {
     "cellMetadata": {
      "byteLimit": 2048000,
      "implicitDf": true,
      "rowLimit": 10000
     },
     "inputWidgets": {},
     "nuid": "3d4af8ec-8146-41bc-aedf-9da074a1c1d0",
     "showTitle": false,
     "tableResultSettingsMap": {},
     "title": ""
    }
   },
   "outputs": [],
   "source": [
    "%sql \n",
    "-- Find Products with their total sales revenue (price * quantity)\n",
    "WITH product_sales AS (\n",
    "    SELECT product_name, SUM(price_each * quantity) total_sales\n",
    "    FROM order_details_backup\n",
    "    GROUP BY product_name\n",
    ")\n",
    "\n",
    "SELECT * FROM product_sales \n",
    "WHERE total_sales > 10000"
   ]
  },
  {
   "cell_type": "markdown",
   "metadata": {
    "application/vnd.databricks.v1+cell": {
     "cellMetadata": {},
     "inputWidgets": {},
     "nuid": "6761b10c-f50c-4db5-9ce2-7041888a5dc7",
     "showTitle": false,
     "tableResultSettingsMap": {},
     "title": ""
    }
   },
   "source": [
    "## # CASE STATEMENTS (SQL IF/ELSE)"
   ]
  },
  {
   "cell_type": "code",
   "execution_count": 0,
   "metadata": {
    "application/vnd.databricks.v1+cell": {
     "cellMetadata": {
      "byteLimit": 2048000,
      "implicitDf": true,
      "rowLimit": 10000
     },
     "inputWidgets": {},
     "nuid": "0632a952-9b52-470c-8b59-c5205e520024",
     "showTitle": false,
     "tableResultSettingsMap": {},
     "title": ""
    },
    "jupyter": {
     "outputs_hidden": true
    }
   },
   "outputs": [],
   "source": [
    "%sql \n",
    "-- Categorize each order: 'Small', 'Meduim', 'Large'\n",
    "WITH categorized_orders AS (\n",
    "    SELECT order_id, total_amount,\n",
    "        CASE \n",
    "            WHEN total_amount < 1000 THEN 'SMALL'\n",
    "            WHEN total_amount BETWEEN 1000 and 3000 THEN 'MEDIUM'\n",
    "            WHEN total_amount > 3000 THEN 'LARGE'\n",
    "        END AS ORDER_SIZE\n",
    "    FROM orders_backup\n",
    ")\n",
    "SELECT * \n",
    "FROM categorized_orders\n",
    "WHERE ORDER_SIZE = 'LARGE'"
   ]
  },
  {
   "cell_type": "code",
   "execution_count": 0,
   "metadata": {
    "application/vnd.databricks.v1+cell": {
     "cellMetadata": {
      "byteLimit": 2048000,
      "implicitDf": true,
      "rowLimit": 10000
     },
     "inputWidgets": {},
     "nuid": "3451b61b-13de-4b4c-acd1-40d841905184",
     "showTitle": false,
     "tableResultSettingsMap": {},
     "title": ""
    },
    "jupyter": {
     "outputs_hidden": true
    }
   },
   "outputs": [],
   "source": [
    "%sql\n",
    "-- Label the customers as 'New' or 'Returning' based on the order count \n",
    "SELECT c.customer_id, c.first_name, COUNT(o.order_id) order_count,\n",
    "    CASE \n",
    "        WHEN order_count = 1 THEN 'NEW'\n",
    "        WHEN order_count > 1 THEN 'RETURNING'\n",
    "        ELSE 'No Orders'\n",
    "    END AS customer_status \n",
    "FROM customer_backup c \n",
    "LEFT JOIN orders_backup o ON c.customer_id = o.customer_id\n",
    "GROUP BY c.customer_id, c.first_name"
   ]
  },
  {
   "cell_type": "markdown",
   "metadata": {
    "application/vnd.databricks.v1+cell": {
     "cellMetadata": {},
     "inputWidgets": {},
     "nuid": "d08122d8-7577-4b4e-985c-d16f74efe6ce",
     "showTitle": false,
     "tableResultSettingsMap": {},
     "title": ""
    }
   },
   "source": [
    "## FUNCTIONS (STRING + DATE)"
   ]
  },
  {
   "cell_type": "code",
   "execution_count": 0,
   "metadata": {
    "application/vnd.databricks.v1+cell": {
     "cellMetadata": {
      "byteLimit": 2048000,
      "implicitDf": true,
      "rowLimit": 10000
     },
     "inputWidgets": {},
     "nuid": "41f3607b-44ad-465b-b587-cef059fdf0fe",
     "showTitle": false,
     "tableResultSettingsMap": {},
     "title": ""
    }
   },
   "outputs": [],
   "source": [
    "%sql\n",
    "SELECT UPPER(first_name) AS FIRST_NAME_UPPERCASE \n",
    "FROM customer_backup"
   ]
  },
  {
   "cell_type": "code",
   "execution_count": 0,
   "metadata": {
    "application/vnd.databricks.v1+cell": {
     "cellMetadata": {
      "byteLimit": 2048000,
      "implicitDf": true,
      "rowLimit": 10000
     },
     "inputWidgets": {},
     "nuid": "a664c26f-0f51-41b1-be54-a07705c0be82",
     "showTitle": false,
     "tableResultSettingsMap": {},
     "title": ""
    }
   },
   "outputs": [],
   "source": [
    "%sql\n",
    "SELECT LOWER(first_name) AS FIRST_NAME_UPPERCASE \n",
    "FROM customer_backup "
   ]
  },
  {
   "cell_type": "code",
   "execution_count": 0,
   "metadata": {
    "application/vnd.databricks.v1+cell": {
     "cellMetadata": {
      "byteLimit": 2048000,
      "implicitDf": true,
      "rowLimit": 10000
     },
     "inputWidgets": {},
     "nuid": "6d70744d-412e-4735-9532-ccf4f36b68fb",
     "showTitle": false,
     "tableResultSettingsMap": {},
     "title": ""
    }
   },
   "outputs": [],
   "source": [
    "%sql\n",
    "SELECT UPPER(CONCAT(first_name, ' ' ,last_name)) AS FULL_NAME \n",
    "FROM customer_backup"
   ]
  },
  {
   "cell_type": "code",
   "execution_count": 0,
   "metadata": {
    "application/vnd.databricks.v1+cell": {
     "cellMetadata": {
      "byteLimit": 2048000,
      "implicitDf": true,
      "rowLimit": 10000
     },
     "inputWidgets": {},
     "nuid": "6325caaf-95ab-4f19-8aa8-5490d52783f1",
     "showTitle": false,
     "tableResultSettingsMap": {},
     "title": ""
    },
    "jupyter": {
     "outputs_hidden": true
    }
   },
   "outputs": [],
   "source": [
    "%sql \n",
    "-- EXTRACT Month of each order & group order by month \n",
    "SELECT MONTH(order_date) AS ORDER_MONTH , COUNT(*) as TOTAL_ORDERS\n",
    "FROM orders_backup\n",
    "GROUP BY ORDER_MONTH \n",
    "ORDER BY ORDER_MONTH ASC "
   ]
  },
  {
   "cell_type": "code",
   "execution_count": 0,
   "metadata": {
    "application/vnd.databricks.v1+cell": {
     "cellMetadata": {
      "byteLimit": 2048000,
      "implicitDf": true,
      "rowLimit": 10000
     },
     "inputWidgets": {},
     "nuid": "f1c4f79d-bf4f-41d8-b538-fb4937a0be7c",
     "showTitle": false,
     "tableResultSettingsMap": {},
     "title": ""
    }
   },
   "outputs": [],
   "source": [
    "%sql \n",
    "-- List each customer's name + their total spend + spending category \n",
    "WITH customer_spend AS (\n",
    "    SELECT c.customer_id,\n",
    "    CONCAT(c.first_name,' ',c.last_name) AS FULLNAME,\n",
    "    SUM(od.quantity * od.price_each) AS TOTAL_SPEND\n",
    "    FROM customer_backup c \n",
    "    INNER JOIN orders_backup o ON c.customer_id = o.customer_id\n",
    "    INNER JOIN order_details_backup od ON o.order_id = od.order_id\n",
    "    GROUP BY c.customer_id, FULLNAME\n",
    ")\n",
    "SELECT FULLNAME, TOTAL_SPEND,\n",
    "      CASE \n",
    "          WHEN TOTAL_SPEND < 10000 THEN 'BRONZE'\n",
    "          WHEN TOTAL_SPEND BETWEEN 1000 AND 30000 THEN 'SILVER'\n",
    "          WHEN TOTAL_SPEND > 30000 THEN 'GOLD'\n",
    "      END AS CUSTOMER_TIER\n",
    "FROM customer_spend;"
   ]
  },
  {
   "cell_type": "code",
   "execution_count": 0,
   "metadata": {
    "application/vnd.databricks.v1+cell": {
     "cellMetadata": {},
     "inputWidgets": {},
     "nuid": "0afa2723-4466-49ce-b66c-46b19448b726",
     "showTitle": false,
     "tableResultSettingsMap": {},
     "title": ""
    }
   },
   "outputs": [],
   "source": []
  }
 ],
 "metadata": {
  "application/vnd.databricks.v1+notebook": {
   "computePreferences": null,
   "dashboards": [],
   "environmentMetadata": {
    "base_environment": "",
    "environment_version": "1"
   },
   "inputWidgetPreferences": null,
   "language": "python",
   "notebookMetadata": {
    "mostRecentlyExecutedCommandWithImplicitDF": {
     "commandId": 1938185343160552,
     "dataframes": [
      "_sqldf"
     ]
    },
    "pythonIndentUnit": 4
   },
   "notebookName": "Class - 4",
   "widgets": {}
  },
  "language_info": {
   "name": "python"
  }
 },
 "nbformat": 4,
 "nbformat_minor": 0
}
